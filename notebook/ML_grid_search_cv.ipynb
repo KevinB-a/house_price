{
 "metadata": {
  "language_info": {
   "codemirror_mode": {
    "name": "ipython",
    "version": 3
   },
   "file_extension": ".py",
   "mimetype": "text/x-python",
   "name": "python",
   "nbconvert_exporter": "python",
   "pygments_lexer": "ipython3",
   "version": "3.8.5"
  },
  "orig_nbformat": 2,
  "kernelspec": {
   "name": "python3",
   "display_name": "Python 3.8.5 64-bit ('env': venv)",
   "metadata": {
    "interpreter": {
     "hash": "439fcf2b87e8a8c9344f4e079676007f62f35d6c6c0b3a701b363eaa99ce0eb1"
    }
   }
  }
 },
 "nbformat": 4,
 "nbformat_minor": 2,
 "cells": [
  {
   "cell_type": "code",
   "execution_count": 20,
   "metadata": {},
   "outputs": [],
   "source": [
    "# import libraries\n",
    "import pandas as pd\n",
    "import numpy as np\n",
    "\n",
    "# import module ml\n",
    "from sklearn import svm, datasets , linear_model\n",
    "from sklearn.model_selection import GridSearchCV, train_test_split , RandomizedSearchCV\n",
    "from scipy.stats import uniform"
   ]
  },
  {
   "cell_type": "code",
   "execution_count": 3,
   "metadata": {},
   "outputs": [],
   "source": [
    "df = pd.read_csv(\"/home/apprenant/simplon_project/house_price/data/df_clean.csv\")"
   ]
  },
  {
   "cell_type": "code",
   "execution_count": 4,
   "metadata": {},
   "outputs": [],
   "source": [
    "x = df[['OverallQual','GrLivArea','1stFlrSF','TotalBsmtSF','GarageArea','GarageCars']]"
   ]
  },
  {
   "cell_type": "code",
   "execution_count": 5,
   "metadata": {},
   "outputs": [],
   "source": [
    "y = df.SalePrice"
   ]
  },
  {
   "cell_type": "code",
   "execution_count": 7,
   "metadata": {},
   "outputs": [],
   "source": [
    "xtrain, xtest, ytrain, ytest = train_test_split(x, y, train_size=0.8)"
   ]
  },
  {
   "cell_type": "code",
   "execution_count": 17,
   "metadata": {},
   "outputs": [
    {
     "output_type": "execute_result",
     "data": {
      "text/plain": [
       "GridSearchCV(estimator=Ridge(), param_grid={'alpha': [10, 40, 41, 42, 43, 44]})"
      ]
     },
     "metadata": {},
     "execution_count": 17
    }
   ],
   "source": [
    "parameters = {'alpha' : [10,40,41,42,43,44]}\n",
    "ridge = linear_model.Ridge()\n",
    "clf = GridSearchCV(ridge, parameters)\n",
    "clf.fit(xtrain, ytrain)"
   ]
  },
  {
   "cell_type": "code",
   "execution_count": 19,
   "metadata": {},
   "outputs": [
    {
     "output_type": "execute_result",
     "data": {
      "text/plain": [
       "   mean_fit_time  std_fit_time  mean_score_time  std_score_time param_alpha  \\\n",
       "0       0.005133      0.000608         0.003257        0.000912          10   \n",
       "1       0.003512      0.000570         0.002591        0.000556          40   \n",
       "2       0.003037      0.000471         0.002000        0.000147          41   \n",
       "3       0.003152      0.000392         0.002123        0.000234          42   \n",
       "4       0.002784      0.000289         0.002039        0.000397          43   \n",
       "5       0.003053      0.000188         0.002081        0.000306          44   \n",
       "\n",
       "          params  split0_test_score  split1_test_score  split2_test_score  \\\n",
       "0  {'alpha': 10}           0.807281           0.777954           0.767583   \n",
       "1  {'alpha': 40}           0.808365           0.778500           0.768856   \n",
       "2  {'alpha': 41}           0.808394           0.778513           0.768888   \n",
       "3  {'alpha': 42}           0.808423           0.778525           0.768920   \n",
       "4  {'alpha': 43}           0.808451           0.778537           0.768952   \n",
       "5  {'alpha': 44}           0.808479           0.778549           0.768983   \n",
       "\n",
       "   split3_test_score  split4_test_score  mean_test_score  std_test_score  \\\n",
       "0           0.761317           0.635198         0.749867        0.059463   \n",
       "1           0.763392           0.631236         0.750070        0.061414   \n",
       "2           0.763447           0.631110         0.750071        0.061474   \n",
       "3           0.763502           0.630984         0.750071        0.061533   \n",
       "4           0.763555           0.630859         0.750071        0.061593   \n",
       "5           0.763608           0.630734         0.750071        0.061652   \n",
       "\n",
       "   rank_test_score  \n",
       "0                6  \n",
       "1                5  \n",
       "2                4  \n",
       "3                2  \n",
       "4                1  \n",
       "5                3  "
      ],
      "text/html": "<div>\n<style scoped>\n    .dataframe tbody tr th:only-of-type {\n        vertical-align: middle;\n    }\n\n    .dataframe tbody tr th {\n        vertical-align: top;\n    }\n\n    .dataframe thead th {\n        text-align: right;\n    }\n</style>\n<table border=\"1\" class=\"dataframe\">\n  <thead>\n    <tr style=\"text-align: right;\">\n      <th></th>\n      <th>mean_fit_time</th>\n      <th>std_fit_time</th>\n      <th>mean_score_time</th>\n      <th>std_score_time</th>\n      <th>param_alpha</th>\n      <th>params</th>\n      <th>split0_test_score</th>\n      <th>split1_test_score</th>\n      <th>split2_test_score</th>\n      <th>split3_test_score</th>\n      <th>split4_test_score</th>\n      <th>mean_test_score</th>\n      <th>std_test_score</th>\n      <th>rank_test_score</th>\n    </tr>\n  </thead>\n  <tbody>\n    <tr>\n      <th>0</th>\n      <td>0.005133</td>\n      <td>0.000608</td>\n      <td>0.003257</td>\n      <td>0.000912</td>\n      <td>10</td>\n      <td>{'alpha': 10}</td>\n      <td>0.807281</td>\n      <td>0.777954</td>\n      <td>0.767583</td>\n      <td>0.761317</td>\n      <td>0.635198</td>\n      <td>0.749867</td>\n      <td>0.059463</td>\n      <td>6</td>\n    </tr>\n    <tr>\n      <th>1</th>\n      <td>0.003512</td>\n      <td>0.000570</td>\n      <td>0.002591</td>\n      <td>0.000556</td>\n      <td>40</td>\n      <td>{'alpha': 40}</td>\n      <td>0.808365</td>\n      <td>0.778500</td>\n      <td>0.768856</td>\n      <td>0.763392</td>\n      <td>0.631236</td>\n      <td>0.750070</td>\n      <td>0.061414</td>\n      <td>5</td>\n    </tr>\n    <tr>\n      <th>2</th>\n      <td>0.003037</td>\n      <td>0.000471</td>\n      <td>0.002000</td>\n      <td>0.000147</td>\n      <td>41</td>\n      <td>{'alpha': 41}</td>\n      <td>0.808394</td>\n      <td>0.778513</td>\n      <td>0.768888</td>\n      <td>0.763447</td>\n      <td>0.631110</td>\n      <td>0.750071</td>\n      <td>0.061474</td>\n      <td>4</td>\n    </tr>\n    <tr>\n      <th>3</th>\n      <td>0.003152</td>\n      <td>0.000392</td>\n      <td>0.002123</td>\n      <td>0.000234</td>\n      <td>42</td>\n      <td>{'alpha': 42}</td>\n      <td>0.808423</td>\n      <td>0.778525</td>\n      <td>0.768920</td>\n      <td>0.763502</td>\n      <td>0.630984</td>\n      <td>0.750071</td>\n      <td>0.061533</td>\n      <td>2</td>\n    </tr>\n    <tr>\n      <th>4</th>\n      <td>0.002784</td>\n      <td>0.000289</td>\n      <td>0.002039</td>\n      <td>0.000397</td>\n      <td>43</td>\n      <td>{'alpha': 43}</td>\n      <td>0.808451</td>\n      <td>0.778537</td>\n      <td>0.768952</td>\n      <td>0.763555</td>\n      <td>0.630859</td>\n      <td>0.750071</td>\n      <td>0.061593</td>\n      <td>1</td>\n    </tr>\n    <tr>\n      <th>5</th>\n      <td>0.003053</td>\n      <td>0.000188</td>\n      <td>0.002081</td>\n      <td>0.000306</td>\n      <td>44</td>\n      <td>{'alpha': 44}</td>\n      <td>0.808479</td>\n      <td>0.778549</td>\n      <td>0.768983</td>\n      <td>0.763608</td>\n      <td>0.630734</td>\n      <td>0.750071</td>\n      <td>0.061652</td>\n      <td>3</td>\n    </tr>\n  </tbody>\n</table>\n</div>"
     },
     "metadata": {},
     "execution_count": 19
    }
   ],
   "source": [
    "pd.DataFrame(clf.cv_results_)"
   ]
  },
  {
   "cell_type": "code",
   "execution_count": 16,
   "metadata": {},
   "outputs": [
    {
     "output_type": "execute_result",
     "data": {
      "text/plain": [
       "Ridge(alpha=43)"
      ]
     },
     "metadata": {},
     "execution_count": 16
    }
   ],
   "source": [
    "clf.best_estimator_"
   ]
  },
  {
   "cell_type": "code",
   "execution_count": 25,
   "metadata": {},
   "outputs": [
    {
     "output_type": "stream",
     "name": "stderr",
     "text": [
      "/home/apprenant/simplon_project/house_price/env/lib/python3.8/site-packages/sklearn/model_selection/_search.py:285: UserWarning: The total space of parameters 5 is smaller than n_iter=10. Running 5 iterations. For exhaustive searches, use GridSearchCV.\n  warnings.warn(\n"
     ]
    }
   ],
   "source": [
    "ridge = linear_model.Ridge()\n",
    "parameters = {'alpha' : [10,11,12,13,14]}\n",
    "clf = RandomizedSearchCV(ridge, parameters, random_state=0)\n",
    "search = clf.fit(xtest, ytest)\n"
   ]
  },
  {
   "cell_type": "code",
   "execution_count": 26,
   "metadata": {},
   "outputs": [
    {
     "output_type": "execute_result",
     "data": {
      "text/plain": [
       "{'alpha': 10}"
      ]
     },
     "metadata": {},
     "execution_count": 26
    }
   ],
   "source": [
    "search.best_params_"
   ]
  },
  {
   "cell_type": "code",
   "execution_count": null,
   "metadata": {},
   "outputs": [],
   "source": []
  }
 ]
}